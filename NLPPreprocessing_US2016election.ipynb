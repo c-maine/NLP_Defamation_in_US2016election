{
 "cells": [
  {
   "cell_type": "markdown",
   "metadata": {},
   "source": [
    "# Preprocessing notebook: Defamation in the U.S. 2016 Presidential Election"
   ]
  },
  {
   "cell_type": "markdown",
   "metadata": {},
   "source": [
    "Working with text requires undertaking a thorough data cleaning process as the first and most crucial step. Twitter users have diverse writing styles. To ensure a fair representation of words or phrases expressing similar things, we changed parts of the data such as correcting misspelled words or expanding contractions. Given its strict 140 character limit per tweet, Twitter motivates people to use short-form word representation, acronyms, emojis or slang to deliver their message while staying within the character limit. Because of this, our data cleaning was essential to having high-quality input data for our model.\n",
    "\n",
    "The preprocessing, outlined below, allowed us to explore and analyze the data in an easier way where we can see the top words and hashtags used in our text. This information confirms the main target of the users was the US election with a particular focus on Donald Trump, Barack Obama, and Hilary Clinton."
   ]
  },
  {
   "cell_type": "markdown",
   "metadata": {},
   "source": [
    "Data pre-processing steps:\n",
    "    \n",
    "- Using the 'Tweet Preprocessor' library, we selected the tweet texts from our dataset and stored all hashtags, emojis, and mentions for later use.\n",
    "- After storing separately the elements we need,  we removed all hashtags, mentions, emojis, numbers, and URLs from the text.\n",
    "- Item To avoid case-sensitive processes, we changed the entire tweets to lowercase representation.\n",
    "- Item Removal of all symbols and punctuation (e.g. ! ? , . / ~)\n",
    "- Item To ensure that words such as \"you're\" and \"you are\" are treated equally, we expanded all contractions in the text.\n",
    "- Item In text analysis, individual words that form a text need to be represented numerically. We ensured that the tweets were represented as a list of individual words as opposed to a single sentence.\n",
    "- Item Stop words are words that are very common across all text (e.g. and, the, to, with, from). These words do not add value to text analysis and were removed from all tweets.\n",
    "- Item When words only appear in a few tweets from a 500,000+ corpus, they only contribute to making a word vector matrix more sparse, thus removing rare words helps condense the data.\n",
    "- Item The final step before the finish line was substituting words that have extra unnecessary letters (e.g. caaaat) to its correct spelling (e.g. cat)."
   ]
  },
  {
   "cell_type": "markdown",
   "metadata": {},
   "source": [
    "# Import packages"
   ]
  },
  {
   "cell_type": "code",
   "execution_count": null,
   "metadata": {
    "ExecuteTime": {
     "end_time": "2020-06-17T08:15:52.039567Z",
     "start_time": "2020-06-17T08:15:49.477887Z"
    }
   },
   "outputs": [],
   "source": [
    "import pandas as pd\n",
    "import numpy as np\n",
    "import matplotlib.pyplot as plt\n",
    "import string\n",
    "import re\n",
    "from re import search\n",
    "import nltk\n",
    "from nltk.corpus import stopwords\n",
    "from nltk.stem.wordnet import WordNetLemmatizer\n",
    "import preprocessor as tp\n",
    "import emoji\n",
    "import contractions\n",
    "from langdetect import detect\n",
    "import collections\n",
    "from sklearn.feature_extraction.text import CountVectorizer, TfidfVectorizer\n",
    "import seaborn as sns\n",
    "import csv\n",
    "import os\n",
    "os.getcwd()"
   ]
  },
  {
   "cell_type": "markdown",
   "metadata": {},
   "source": [
    "# Load data "
   ]
  },
  {
   "cell_type": "code",
   "execution_count": 3,
   "metadata": {
    "ExecuteTime": {
     "end_time": "2020-06-17T08:16:23.594304Z",
     "start_time": "2020-06-17T08:16:08.764702Z"
    }
   },
   "outputs": [
    {
     "name": "stdout",
     "output_type": "stream",
     "text": [
      "date range: 2010-08-03 12:39:00 , 2018-11-06 18:04:00\n"
     ]
    }
   ],
   "source": [
    "data = pd.read_csv('data/russian_linked_tweets_csv_hashed.csv', low_memory=False)\n",
    "data[\"tweet_time\"] = pd.to_datetime(data['tweet_time'])\n",
    "print(\"date range: \" +str(min(data[\"tweet_time\"])) + \" , \" + str(max(data[\"tweet_time\"])))"
   ]
  },
  {
   "cell_type": "markdown",
   "metadata": {},
   "source": [
    "# Preprocess"
   ]
  },
  {
   "cell_type": "code",
   "execution_count": 4,
   "metadata": {
    "ExecuteTime": {
     "end_time": "2020-06-17T08:16:40.419150Z",
     "start_time": "2020-06-17T08:16:40.404368Z"
    }
   },
   "outputs": [],
   "source": [
    "# Option 1: Subset data by date range\n",
    "start_date, end_date = \"2014-07-01\", \"2017-10-01\"\n",
    "date_mask = (data['tweet_time'] > start_date) & (data['tweet_time'] <= end_date)"
   ]
  },
  {
   "cell_type": "code",
   "execution_count": 5,
   "metadata": {
    "ExecuteTime": {
     "end_time": "2020-06-17T08:16:42.241394Z",
     "start_time": "2020-06-17T08:16:41.878533Z"
    }
   },
   "outputs": [],
   "source": [
    "data_subset = data[date_mask]\n",
    "data_subset = data_subset[['tweetid', 'userid', 'user_screen_name', \n",
    "                           'user_reported_location','user_profile_description', \n",
    "                           'tweet_text', 'hashtags', 'tweet_language', 'tweet_time',\n",
    "                          'follower_count', 'following_count']]\n",
    "# is_en = data_subset['tweet_language'] == 'en'\n",
    "data_subset = data_subset[data_subset['tweet_language'] == 'en']"
   ]
  },
  {
   "cell_type": "code",
   "execution_count": 6,
   "metadata": {},
   "outputs": [],
   "source": [
    "# # output dataframe to csv\n",
    "# data_subset_en.to_csv('en_tweets.csv', quoting=csv.QUOTE_NONNUMERIC)"
   ]
  },
  {
   "cell_type": "code",
   "execution_count": 7,
   "metadata": {
    "ExecuteTime": {
     "end_time": "2020-06-10T10:24:08.725654Z",
     "start_time": "2020-06-10T10:24:08.523826Z"
    }
   },
   "outputs": [],
   "source": [
    "# # Option 2: Subset data by indices\n",
    "# data_subset = data[['tweetid','user_screen_name', 'user_reported_location',\n",
    "#                     'user_profile_description', 'tweet_text', 'hashtags', 'tweet_language', 'tweet_time']]\n",
    "# # filter for english language tweets\n",
    "# is_en = data_subset['tweet_language'] == 'en'\n",
    "# data_subset = data_subset[is_en]\n",
    "# print(len(data_subset))\n",
    "# #data_subset[\"tweet_time\"] = pd.to_datetime(data_subset['tweet_time'])\n",
    "# # subset dataframe\n",
    "# data_subset = data_subset.iloc[0:10000,:]\n",
    "# data_subset.head()"
   ]
  },
  {
   "cell_type": "code",
   "execution_count": 8,
   "metadata": {
    "ExecuteTime": {
     "end_time": "2020-06-11T13:53:41.702784Z",
     "start_time": "2020-06-11T13:53:41.694772Z"
    }
   },
   "outputs": [],
   "source": [
    "# Remove original dataframe from memory in order to free up space\n",
    "# del data"
   ]
  },
  {
   "cell_type": "code",
   "execution_count": 9,
   "metadata": {
    "ExecuteTime": {
     "end_time": "2020-06-11T13:53:48.467098Z",
     "start_time": "2020-06-11T13:53:48.459073Z"
    }
   },
   "outputs": [
    {
     "name": "stdout",
     "output_type": "stream",
     "text": [
      "539789\n",
      "RT @MolonLabeIndust: BLM Race Pimps Nationwide Day Of Rage Protests Planned https://t.co/KVxQwZmOzi https://t.co/FFvnjpY323\n",
      "==============================================\n"
     ]
    },
    {
     "data": {
      "text/plain": [
       "'RT $MENTION$: BLM Race Pimps Nationwide Day Of Rage ProtestsPlanned $URL$ $URL$'"
      ]
     },
     "execution_count": 9,
     "metadata": {},
     "output_type": "execute_result"
    }
   ],
   "source": [
    "# observe random tweets\n",
    "i = np.random.randint(low = 0, high = len(data_subset))\n",
    "print(i)\n",
    "print(data_subset.tweet_text[i])\n",
    "print('==============================================')\n",
    "# undertand how the tweet preprocessor library works\n",
    "tp.set_options(tp.OPT.URL, tp.OPT.EMOJI, tp.OPT.MENTION, tp.OPT.NUMBER, tp.OPT.HASHTAG, tp.OPT.SMILEY)\n",
    "tp.tokenize(data_subset.tweet_text[i])"
   ]
  },
  {
   "cell_type": "code",
   "execution_count": 6,
   "metadata": {
    "ExecuteTime": {
     "end_time": "2020-06-17T08:16:47.007310Z",
     "start_time": "2020-06-17T08:16:46.997924Z"
    }
   },
   "outputs": [],
   "source": [
    "def extract_elements(tweets):\n",
    "    \"\"\" Function that uses the tweet-preprocessor and emojis libraries \n",
    "        to identify and save:\n",
    "            - #Hashtags\n",
    "            - @Mentions\n",
    "            - Emojis \n",
    "        \n",
    "    Args:\n",
    "        tweets: list containing all tweets\n",
    "        \n",
    "    Returns: \n",
    "        hashtags: list of hashtags\n",
    "        mentions: list of mentions\n",
    "        emojis: list of emojis\n",
    "\n",
    "    \"\"\"\n",
    "\n",
    "    # set the global options for the library (which elements of the tweet pay attention to)\n",
    "    tp.set_options(tp.OPT.URL, tp.OPT.EMOJI, tp.OPT.MENTION, tp.OPT.NUMBER, tp.OPT.HASHTAG)\n",
    "    \n",
    "    # create empty lists to store the resuts\n",
    "    hashtags = []\n",
    "    mentions = []\n",
    "    emojis = []\n",
    "    \n",
    "    # iterate over all tweets in the list\n",
    "    for tweet in tweets:\n",
    "        \n",
    "        # parse tweet to extract the relevant elements defined in the options\n",
    "        parsed_tweet = tp.parse(tweet)\n",
    "        \n",
    "        # 1. save the hashtags\n",
    "        h_tweet = []\n",
    "        if parsed_tweet.hashtags != None:\n",
    "            for hashtag in parsed_tweet.hashtags:\n",
    "                h_tweet.append(hashtag.match)\n",
    "\n",
    "        # save to the global list as a space separated string\n",
    "        hashtags.append(' '.join(h_tweet))\n",
    "        \n",
    "        \n",
    "        # 2. save the emojis (using the library)\n",
    "        e_tweet = []\n",
    "        if len(emoji.emoji_lis(tweet)) > 0:\n",
    "            for e in emoji.emoji_lis(tweet):\n",
    "                e_tweet.append(e['emoji'])\n",
    "\n",
    "        # save to the global list as a space separated string\n",
    "        emojis.append(' '.join(e_tweet))\n",
    "        \n",
    "        # 3. save the mentions\n",
    "        m_tweet = []\n",
    "        if parsed_tweet.mentions != None:\n",
    "            for mention in parsed_tweet.mentions:\n",
    "                m_tweet.append(mention.match)\n",
    "        \n",
    "        # save to the global list as a space separated string\n",
    "        mentions.append(' '.join(m_tweet))\n",
    "    \n",
    "    \n",
    "    return(hashtags, mentions, emojis)"
   ]
  },
  {
   "cell_type": "code",
   "execution_count": 7,
   "metadata": {
    "ExecuteTime": {
     "end_time": "2020-06-17T08:16:48.132301Z",
     "start_time": "2020-06-17T08:16:48.129466Z"
    }
   },
   "outputs": [],
   "source": [
    "# hashtags, mentions, emojis = extract_elements(data_subset.tweet_text)"
   ]
  },
  {
   "cell_type": "code",
   "execution_count": 8,
   "metadata": {
    "ExecuteTime": {
     "end_time": "2020-06-17T08:16:48.346404Z",
     "start_time": "2020-06-17T08:16:48.343742Z"
    }
   },
   "outputs": [],
   "source": [
    "# len(hashtags), len(mentions), len(emojis)"
   ]
  },
  {
   "cell_type": "code",
   "execution_count": 9,
   "metadata": {
    "ExecuteTime": {
     "end_time": "2020-06-17T08:16:48.536955Z",
     "start_time": "2020-06-17T08:16:48.531546Z"
    }
   },
   "outputs": [],
   "source": [
    "def tweet_preprocessor(tweets):\n",
    "    \"\"\" Function that uses the tweet-preprocessor and emojis libraries \n",
    "        to remove: \n",
    "            - #Hashtags\n",
    "            - @Mentions\n",
    "            - Emojis\n",
    "            - URLs\n",
    "            - Standalone numbers\n",
    "            \n",
    "        and transform all letters into lower case\n",
    "        \n",
    "    Args:\n",
    "        tweets: list containing all tweets\n",
    "        \n",
    "    Returns: \n",
    "        clean_tweets: lower-cased preprocessed list of tweets\n",
    "        \n",
    "    Sources:\n",
    "        https://pypi.org/project/tweet-preprocessor/\n",
    "        https://github.com/carpedm20/emoji/\n",
    "\n",
    "    \"\"\"\n",
    "    \n",
    "    # set the global options for the library (which elements of the tweet pay attention to)\n",
    "    tp.set_options(tp.OPT.URL, tp.OPT.MENTION, tp.OPT.NUMBER, tp.OPT.HASHTAG)\n",
    "    \n",
    "    # create a list to store the results\n",
    "    clean_tweets = []\n",
    "    \n",
    "    # iterate over all tweets in the list\n",
    "    for tweet in tweets:\n",
    "        \n",
    "        # remove emojis\n",
    "        for e in emoji.emoji_lis(tweet):\n",
    "            tweet = tweet.replace(e['emoji'], '')\n",
    "        \n",
    "        # append the cleaned lowered-cassed tweet\n",
    "        clean_tweets.append(tp.clean(tweet).lower())\n",
    "    \n",
    "    return(clean_tweets)"
   ]
  },
  {
   "cell_type": "code",
   "execution_count": 10,
   "metadata": {
    "ExecuteTime": {
     "end_time": "2020-06-17T08:16:48.781862Z",
     "start_time": "2020-06-17T08:16:48.779347Z"
    }
   },
   "outputs": [],
   "source": [
    "# clean_text = tweet_preprocessor(data_subset.tweet_text)"
   ]
  },
  {
   "cell_type": "code",
   "execution_count": 11,
   "metadata": {
    "ExecuteTime": {
     "end_time": "2020-06-17T08:16:49.093376Z",
     "start_time": "2020-06-17T08:16:49.090835Z"
    }
   },
   "outputs": [],
   "source": [
    "# i = np.random.randint(low = 0, high = len(data_subset))\n",
    "# print(data_subset.tweet_text[i]) \n",
    "# print(' ================================== ')\n",
    "# print(clean_text[i])"
   ]
  },
  {
   "cell_type": "code",
   "execution_count": 12,
   "metadata": {
    "ExecuteTime": {
     "end_time": "2020-06-17T08:16:49.244068Z",
     "start_time": "2020-06-17T08:16:49.239601Z"
    }
   },
   "outputs": [],
   "source": [
    "def remove_symbols(tweets, symbols):\n",
    "    \"\"\" Function that  uses regular expressions to delete all symbols\n",
    "        given by the user from the tweets\n",
    "        \n",
    "    Args:\n",
    "        tweets: list containing all tweets\n",
    "        symbols: list containing all the symbols to replace\n",
    "        \n",
    "    Returns: \n",
    "        clean_tweets: list of tweets without symbols \n",
    "        \n",
    "    \"\"\"\n",
    "    \n",
    "    # generate regular expression\n",
    "    rx = '[' + re.escape(''.join(my_symbols)) + ']'\n",
    "    \n",
    "    # create empty list to store results\n",
    "    clean_tweets = []\n",
    "    for tweet in tweets:\n",
    "        clean_tweets.append(re.sub(rx, '', tweet))\n",
    "        \n",
    "    return(clean_tweets)"
   ]
  },
  {
   "cell_type": "code",
   "execution_count": 13,
   "metadata": {
    "ExecuteTime": {
     "end_time": "2020-06-17T08:16:49.467715Z",
     "start_time": "2020-06-17T08:16:49.463521Z"
    }
   },
   "outputs": [
    {
     "name": "stdout",
     "output_type": "stream",
     "text": [
      "['!', '\"', '#', '$', '%', '&', '(', ')', '*', '+', ',', '-', '.', '/', ':', ';', '<', '=', '>', '?', '@', '[', '\\\\', ']', '^', '_', '`', '{', '|', '}', '~', '…', '»', '«']\n"
     ]
    }
   ],
   "source": [
    "my_symbols = list(string.punctuation)\n",
    "my_symbols.remove(\"'\")\n",
    "my_symbols.append('…')\n",
    "my_symbols.append('»')\n",
    "my_symbols.append('«')\n",
    "print(my_symbols)"
   ]
  },
  {
   "cell_type": "code",
   "execution_count": 14,
   "metadata": {
    "ExecuteTime": {
     "end_time": "2020-06-17T08:16:49.825194Z",
     "start_time": "2020-06-17T08:16:49.822649Z"
    }
   },
   "outputs": [],
   "source": [
    "# clean_text = remove_symbols(clean_text, my_symbols)"
   ]
  },
  {
   "cell_type": "code",
   "execution_count": 15,
   "metadata": {
    "ExecuteTime": {
     "end_time": "2020-06-17T08:16:50.213028Z",
     "start_time": "2020-06-17T08:16:50.210729Z"
    }
   },
   "outputs": [],
   "source": [
    "# i = np.random.randint(low = 0, high = len(data_subset))\n",
    "# print(data_subset.tweet_text[i]) \n",
    "# print(' ============================================ ')\n",
    "# clean_text[i]"
   ]
  },
  {
   "cell_type": "code",
   "execution_count": 16,
   "metadata": {
    "ExecuteTime": {
     "end_time": "2020-06-17T08:16:51.024649Z",
     "start_time": "2020-06-17T08:16:51.018994Z"
    }
   },
   "outputs": [
    {
     "name": "stdout",
     "output_type": "stream",
     "text": [
      "you are happy now\n",
      "yall're happy now\n",
      "you all are happy now\n",
      "we will go to the bar\n",
      "I am hungry right now\n",
      "we are working on text mining\n"
     ]
    }
   ],
   "source": [
    "print(contractions.fix(\"you're happy now\"))\n",
    "print(contractions.fix(\"yall're happy now\", slang=False))\n",
    "print(contractions.fix(\"yall're happy now\"))\n",
    "print(contractions.fix(\"we'll go to the bar\"))\n",
    "print(contractions.fix(\"i'm hungry right now\"))\n",
    "print(contractions.fix(\"we are working on text mining\"))"
   ]
  },
  {
   "cell_type": "code",
   "execution_count": 17,
   "metadata": {
    "ExecuteTime": {
     "end_time": "2020-06-17T08:16:51.600893Z",
     "start_time": "2020-06-17T08:16:51.596789Z"
    }
   },
   "outputs": [],
   "source": [
    "def expand_contractions(tweets):\n",
    "    \"\"\" Function to transform some of the most common English and \n",
    "        French contractions into their expanded form\n",
    "        \n",
    "    Args:\n",
    "        tweets: list containing all tweets\n",
    "        \n",
    "    Returns: \n",
    "        clean_tweets: list of tweets with the contractions expanded\n",
    "    \"\"\"\n",
    "    \n",
    "    # create a list for storing the results\n",
    "    clean_tweets = []\n",
    "    for tweet in tweets:\n",
    "        clean_tweets.append(contractions.fix(tweet).lower())\n",
    "        \n",
    "    \n",
    "    return(clean_tweets)"
   ]
  },
  {
   "cell_type": "code",
   "execution_count": 18,
   "metadata": {
    "ExecuteTime": {
     "end_time": "2020-06-17T08:16:52.223892Z",
     "start_time": "2020-06-17T08:16:52.221346Z"
    }
   },
   "outputs": [],
   "source": [
    "# clean_text2 = expand_contractions(clean_text)"
   ]
  },
  {
   "cell_type": "code",
   "execution_count": 19,
   "metadata": {
    "ExecuteTime": {
     "end_time": "2020-06-17T08:16:52.491653Z",
     "start_time": "2020-06-17T08:16:52.488970Z"
    }
   },
   "outputs": [],
   "source": [
    "# i = np.random.randint(0,10000)\n",
    "# print(clean_text[i])\n",
    "# print(clean_text2[i])"
   ]
  },
  {
   "cell_type": "code",
   "execution_count": 20,
   "metadata": {
    "ExecuteTime": {
     "end_time": "2020-06-17T08:16:52.731032Z",
     "start_time": "2020-06-17T08:16:52.728501Z"
    }
   },
   "outputs": [],
   "source": [
    "# tweets_words = [tweet.split() for tweet in clean_text2]"
   ]
  },
  {
   "cell_type": "code",
   "execution_count": 21,
   "metadata": {
    "ExecuteTime": {
     "end_time": "2020-06-17T08:16:53.058135Z",
     "start_time": "2020-06-17T08:16:53.055447Z"
    }
   },
   "outputs": [],
   "source": [
    "# len(tweets_words)"
   ]
  },
  {
   "cell_type": "code",
   "execution_count": 22,
   "metadata": {
    "ExecuteTime": {
     "end_time": "2020-06-17T08:16:54.232510Z",
     "start_time": "2020-06-17T08:16:54.227856Z"
    }
   },
   "outputs": [],
   "source": [
    "def remove_stopwords(tweets_words, stop_words):\n",
    "    \"\"\" Function to remove a list of words from all the corpus\n",
    "        \n",
    "    Args:\n",
    "        tweets_words: list containing all tweets represented as lists of words\n",
    "        stop_words: list of words to be removed\n",
    "        \n",
    "    Returns: \n",
    "        clean_words: list of tweets without stop_words\n",
    "        \n",
    "    \"\"\"\n",
    "    \n",
    "    # create a list of empty lists to store the results\n",
    "    clean_words = [[] for tweet in tweets_words] \n",
    "    for i,tweet in enumerate(tweets_words):\n",
    "        for word in tweet: \n",
    "            if word not in stop_words: \n",
    "                clean_words[i].append(word)\n",
    "\n",
    "    return(clean_words)"
   ]
  },
  {
   "cell_type": "code",
   "execution_count": 23,
   "metadata": {
    "ExecuteTime": {
     "end_time": "2020-06-17T08:16:55.256764Z",
     "start_time": "2020-06-17T08:16:54.963474Z"
    }
   },
   "outputs": [
    {
     "name": "stderr",
     "output_type": "stream",
     "text": [
      "[nltk_data] Downloading package stopwords to\n",
      "[nltk_data]     /Users/kristin.lomicka/nltk_data...\n",
      "[nltk_data]   Package stopwords is already up-to-date!\n"
     ]
    }
   ],
   "source": [
    "# download stop words\n",
    "nltk.download('stopwords')\n",
    "\n",
    "# load all stop words \n",
    "stop_words = stopwords.words('english') # + other languages? chinese/russian?"
   ]
  },
  {
   "cell_type": "code",
   "execution_count": 24,
   "metadata": {
    "ExecuteTime": {
     "end_time": "2020-06-17T08:16:56.145130Z",
     "start_time": "2020-06-17T08:16:56.142633Z"
    }
   },
   "outputs": [],
   "source": [
    "# len(stop_words)"
   ]
  },
  {
   "cell_type": "code",
   "execution_count": 25,
   "metadata": {
    "ExecuteTime": {
     "end_time": "2020-06-17T08:16:56.531072Z",
     "start_time": "2020-06-17T08:16:56.528635Z"
    }
   },
   "outputs": [],
   "source": [
    "# clean_words = remove_stopwords(tweets_words, stop_words)"
   ]
  },
  {
   "cell_type": "code",
   "execution_count": 26,
   "metadata": {
    "ExecuteTime": {
     "end_time": "2020-06-17T08:16:56.941552Z",
     "start_time": "2020-06-17T08:16:56.938961Z"
    }
   },
   "outputs": [],
   "source": [
    "# i = np.random.randint(low = 0, high = len(data_subset))\n",
    "# print(data_subset.tweet_text[i]) \n",
    "# print(' ============================================ ')\n",
    "# print(clean_words[i])"
   ]
  },
  {
   "cell_type": "code",
   "execution_count": 27,
   "metadata": {
    "ExecuteTime": {
     "end_time": "2020-06-17T08:16:57.770295Z",
     "start_time": "2020-06-17T08:16:57.764011Z"
    }
   },
   "outputs": [],
   "source": [
    "def replace_multiple(tweets_words):\n",
    "    \"\"\" Function to replace 3 or more consecutive vocals (caaaaaat)\n",
    "        with only one appearance (cat)\n",
    "        \n",
    "    Args:\n",
    "        tweets_words: list of tweets represented as lists of words\n",
    "        \n",
    "    Returns: \n",
    "        clean_tweets\n",
    "    \"\"\"\n",
    "\n",
    "    def replace(string, char): \n",
    "        pattern = char + '{3,}'\n",
    "        string = re.sub(pattern, char, string) \n",
    "        return string \n",
    "    \n",
    "    def replace_vocals(string):\n",
    "        vocals = [\"a\",\"e\", \"i\", \"o\", \"u\"]\n",
    "        clean = string\n",
    "        for char in vocals:\n",
    "            clean = replace(clean,char)\n",
    "        return clean\n",
    "\n",
    "    # create an empty list to store the results\n",
    "    clean_tweets = []\n",
    "    for tweet in tweets_words:\n",
    "        clean_words = [replace_vocals(word) for word in tweet] \n",
    "        clean_tweets.append(clean_words)\n",
    "    \n",
    "    return(clean_tweets)"
   ]
  },
  {
   "cell_type": "code",
   "execution_count": 33,
   "metadata": {
    "ExecuteTime": {
     "end_time": "2020-06-17T08:23:03.738198Z",
     "start_time": "2020-06-17T08:23:03.732258Z"
    }
   },
   "outputs": [],
   "source": [
    "def remove_rare_words(tweets):\n",
    "    # join all tweets together so it's a long list of words\n",
    "    all_words = [word for sent in tweets for word in sent]\n",
    "\n",
    "    # calculate the frequency of each of the words\n",
    "    freq_dist = nltk.FreqDist(all_words)\n",
    "\n",
    "    # create list of words that appear <= 3 times in the whole corpus\n",
    "    rare_words = {k:v for k,v in freq_dist.items() if v <= 3}\n",
    "    \n",
    "    words_to_add = {'rt': 1, \n",
    "                'http': 1, \n",
    "                'https': 1,\n",
    "                    'amp': 1,\n",
    "                   'uy41ohlqpejzkqhs': 1,\n",
    "                   'a3g4wu5athso': 1,\n",
    "                   \"\\'s\" : 1,\n",
    "                   \"mt\" : 1,\n",
    "                   \"htt\" : 1}\n",
    "\n",
    "    rare_words.update(words_to_add)\n",
    "    \n",
    "    clean_tweets_final = [[word for word in sent if word not in rare_words.keys()] for sent in tweets]\n",
    "    \n",
    "    return clean_tweets_final"
   ]
  },
  {
   "cell_type": "code",
   "execution_count": 33,
   "metadata": {
    "ExecuteTime": {
     "end_time": "2020-06-11T14:05:05.154451Z",
     "start_time": "2020-06-11T14:04:39.396575Z"
    }
   },
   "outputs": [],
   "source": [
    "# clean_words = replace_multiple(clean_words)"
   ]
  },
  {
   "cell_type": "code",
   "execution_count": 34,
   "metadata": {
    "ExecuteTime": {
     "end_time": "2020-06-11T14:06:47.218066Z",
     "start_time": "2020-06-11T14:06:47.212606Z"
    }
   },
   "outputs": [],
   "source": [
    "# i = np.random.randint(low = 0, high = len(data_subset))\n",
    "# print(i)\n",
    "# print(data_subset.tweet_text[i]) \n",
    "# print(' =================================== ')\n",
    "# print(clean_words[i])"
   ]
  },
  {
   "cell_type": "markdown",
   "metadata": {},
   "source": [
    "### Merge all the prior functions into one"
   ]
  },
  {
   "cell_type": "code",
   "execution_count": 34,
   "metadata": {
    "ExecuteTime": {
     "end_time": "2020-06-17T08:24:17.679795Z",
     "start_time": "2020-06-17T08:24:17.673275Z"
    },
    "colab": {},
    "colab_type": "code",
    "id": "-Rq9GQdV34e0"
   },
   "outputs": [],
   "source": [
    "def preprocessor(tweets, symbols, stop_words):\n",
    "    \"\"\" Function that applies sequentially the following cleaning \n",
    "        procedures to the list of tweets provided as an input:\n",
    "\n",
    "        1. identifies and stores\n",
    "            a. #Hashtagas\n",
    "            b. @Mentions\n",
    "            c. Emojis\n",
    "        2. removes from the text:\n",
    "            a. #Hashtags\n",
    "            b. @Mentions\n",
    "            c. Emojis\n",
    "            d. URL's\n",
    "            e. Standalone numbers  \n",
    "        3. converts all letters into lowercase\n",
    "        4. removes user-specified symbols\n",
    "        5. expands some basic contractions (French only)\n",
    "        6. represents every tweet as a list of words\n",
    "        7. removes user-specified stopwords\n",
    "        8. replaces muuuuultiple appearances of a letter in a word\n",
    "    \n",
    "    Args:\n",
    "        tweets: list containing all tweets\n",
    "        symbols: list containing all symbols to be removed\n",
    "        stopwords: list containing all stopwords to be removed\n",
    "        \n",
    "    Returns: \n",
    "        tweets_words: list of tweets represented as lists of words\n",
    "        hashtags: list of hashtags\n",
    "        mentions: list of mentions\n",
    "        emojis: list of emojis   \n",
    "    \"\"\"\n",
    "\n",
    "    \n",
    "    # 1.\n",
    "    hashtags, mentions, emojis = extract_elements(tweets)\n",
    "    \n",
    "    # 2 and 3\n",
    "    clean_tweets = tweet_preprocessor(tweets)\n",
    "\n",
    "    # 4. \n",
    "    clean_tweets = remove_symbols(clean_tweets, symbols)\n",
    "     \n",
    "    # 5. \n",
    "    clean_tweets = expand_contractions(clean_tweets)\n",
    "    \n",
    "    # 6.\n",
    "    tweets_words = [tweet.split() for tweet in clean_tweets]\n",
    "    \n",
    "    # 7. \n",
    "    tweets_words = remove_stopwords(tweets_words, stop_words)\n",
    "    \n",
    "    # 8.\n",
    "    tweets_words = replace_multiple(tweets_words)\n",
    "    \n",
    "    lmtzr = WordNetLemmatizer()\n",
    "    \n",
    "    tweets_words = [[lmtzr.lemmatize(word) for word in sent] for sent in tweets_words]\n",
    "    \n",
    "    tweets_words = remove_rare_words(tweets_words)\n",
    "\n",
    "    return(tweets_words, hashtags, mentions, emojis)"
   ]
  },
  {
   "cell_type": "code",
   "execution_count": 35,
   "metadata": {
    "ExecuteTime": {
     "end_time": "2020-06-17T08:24:18.689722Z",
     "start_time": "2020-06-17T08:24:18.683601Z"
    }
   },
   "outputs": [
    {
     "name": "stdout",
     "output_type": "stream",
     "text": [
      "['!', '\"', '#', '$', '%', '&', '(', ')', '*', '+', ',', '-', '.', '/', ':', ';', '<', '=', '>', '?', '@', '[', '\\\\', ']', '^', '_', '`', '{', '|', '}', '~', '…', '»', '«', '„', '“', '–']\n"
     ]
    }
   ],
   "source": [
    "# load all stop words \n",
    "stop_words = stopwords.words('english') # + other languages? chinese?\n",
    "\n",
    "# load and add new punctutation \n",
    "my_symbols = list(string.punctuation)\n",
    "my_symbols.remove(\"'\")\n",
    "my_symbols.append('…')\n",
    "my_symbols.append('»')\n",
    "my_symbols.append('«')\n",
    "my_symbols.append('„')\n",
    "my_symbols.append('“')\n",
    "my_symbols.append(\"–\")\n",
    "print(my_symbols)"
   ]
  },
  {
   "cell_type": "code",
   "execution_count": 36,
   "metadata": {
    "ExecuteTime": {
     "end_time": "2020-06-17T08:30:53.314082Z",
     "start_time": "2020-06-17T08:24:20.471419Z"
    }
   },
   "outputs": [],
   "source": [
    "# put everything together\n",
    "clean_tweets, hashtags, mentions, emojis = preprocessor(data_subset.tweet_text, my_symbols, stop_words)"
   ]
  },
  {
   "cell_type": "code",
   "execution_count": 37,
   "metadata": {
    "ExecuteTime": {
     "end_time": "2020-06-17T08:30:53.707754Z",
     "start_time": "2020-06-17T08:30:53.316585Z"
    }
   },
   "outputs": [],
   "source": [
    "clean_df = pd.DataFrame({'clean_tweet': clean_tweets, 'hashtags': hashtags,\n",
    "                         'mentions': mentions, 'emojis': emojis})"
   ]
  },
  {
   "cell_type": "code",
   "execution_count": 38,
   "metadata": {
    "ExecuteTime": {
     "end_time": "2020-06-17T08:36:28.491752Z",
     "start_time": "2020-06-17T08:36:28.447939Z"
    }
   },
   "outputs": [
    {
     "data": {
      "text/html": [
       "<div>\n",
       "<style scoped>\n",
       "    .dataframe tbody tr th:only-of-type {\n",
       "        vertical-align: middle;\n",
       "    }\n",
       "\n",
       "    .dataframe tbody tr th {\n",
       "        vertical-align: top;\n",
       "    }\n",
       "\n",
       "    .dataframe thead th {\n",
       "        text-align: right;\n",
       "    }\n",
       "</style>\n",
       "<table border=\"1\" class=\"dataframe\">\n",
       "  <thead>\n",
       "    <tr style=\"text-align: right;\">\n",
       "      <th></th>\n",
       "      <th>clean_tweet</th>\n",
       "      <th>hashtags</th>\n",
       "      <th>mentions</th>\n",
       "      <th>emojis</th>\n",
       "    </tr>\n",
       "  </thead>\n",
       "  <tbody>\n",
       "    <tr>\n",
       "      <th>0</th>\n",
       "      <td>[new, convoy, arrived]</td>\n",
       "      <td>#SyrianArmy #Hama #InsideSyriaMC</td>\n",
       "      <td></td>\n",
       "      <td></td>\n",
       "    </tr>\n",
       "    <tr>\n",
       "      <th>1</th>\n",
       "      <td>[civilian, killed, mosul]</td>\n",
       "      <td>#Iraq #airstrike</td>\n",
       "      <td>@CJTFOIR</td>\n",
       "      <td></td>\n",
       "    </tr>\n",
       "    <tr>\n",
       "      <th>2</th>\n",
       "      <td>[truly, know, know, true, payback, hell, perso...</td>\n",
       "      <td></td>\n",
       "      <td></td>\n",
       "      <td></td>\n",
       "    </tr>\n",
       "    <tr>\n",
       "      <th>3</th>\n",
       "      <td>[remember, last, summer, dear, ️]</td>\n",
       "      <td></td>\n",
       "      <td></td>\n",
       "      <td>☀ 🌊 🐬 🐚 🏄 🏊 🚵 🍒 🍇 🍉 🍓 🍑</td>\n",
       "    </tr>\n",
       "    <tr>\n",
       "      <th>4</th>\n",
       "      <td>[u, gay, arriage, refused, clerk, kkentucky]</td>\n",
       "      <td></td>\n",
       "      <td></td>\n",
       "      <td></td>\n",
       "    </tr>\n",
       "    <tr>\n",
       "      <th>5</th>\n",
       "      <td>[former, president, jimmy, carter, begin, radi...</td>\n",
       "      <td></td>\n",
       "      <td></td>\n",
       "      <td></td>\n",
       "    </tr>\n",
       "    <tr>\n",
       "      <th>6</th>\n",
       "      <td>[new, trove, purported, ashley, madison, data,...</td>\n",
       "      <td></td>\n",
       "      <td></td>\n",
       "      <td></td>\n",
       "    </tr>\n",
       "    <tr>\n",
       "      <th>7</th>\n",
       "      <td>[today's, lesson, islam, ️, ️]</td>\n",
       "      <td>#EducateYourselfOnIslam #StopIslamizationOfAme...</td>\n",
       "      <td></td>\n",
       "      <td>☪ 👎 🏿 🕋 🕋 💀 ☪ 🕋 👹 💣 ❌</td>\n",
       "    </tr>\n",
       "    <tr>\n",
       "      <th>8</th>\n",
       "      <td>[new, york, prison, escapee, david, sweat, ple...</td>\n",
       "      <td></td>\n",
       "      <td></td>\n",
       "      <td></td>\n",
       "    </tr>\n",
       "    <tr>\n",
       "      <th>9</th>\n",
       "      <td>[subway, jared, fogle, face, year, prison, ter...</td>\n",
       "      <td></td>\n",
       "      <td></td>\n",
       "      <td></td>\n",
       "    </tr>\n",
       "    <tr>\n",
       "      <th>10</th>\n",
       "      <td>[google, inc, nasdaqgoogl, go, ajustin, driver...</td>\n",
       "      <td></td>\n",
       "      <td></td>\n",
       "      <td></td>\n",
       "    </tr>\n",
       "    <tr>\n",
       "      <th>11</th>\n",
       "      <td>[never, forget]</td>\n",
       "      <td>#ShaunKingIsWhite</td>\n",
       "      <td></td>\n",
       "      <td></td>\n",
       "    </tr>\n",
       "    <tr>\n",
       "      <th>12</th>\n",
       "      <td>[carlos, hollins, prison, making, terror, threat]</td>\n",
       "      <td>#Orlando</td>\n",
       "      <td>@__TRVPCOCAINE</td>\n",
       "      <td></td>\n",
       "    </tr>\n",
       "    <tr>\n",
       "      <th>13</th>\n",
       "      <td>[ashley, madison, fallout, blackmail, risk]</td>\n",
       "      <td></td>\n",
       "      <td></td>\n",
       "      <td></td>\n",
       "    </tr>\n",
       "    <tr>\n",
       "      <th>14</th>\n",
       "      <td>[hurt, man, survived, week, wood, drinking, ra...</td>\n",
       "      <td></td>\n",
       "      <td></td>\n",
       "      <td></td>\n",
       "    </tr>\n",
       "    <tr>\n",
       "      <th>15</th>\n",
       "      <td>[hell, storm, three, washington, firefighter, ...</td>\n",
       "      <td></td>\n",
       "      <td></td>\n",
       "      <td></td>\n",
       "    </tr>\n",
       "    <tr>\n",
       "      <th>16</th>\n",
       "      <td>[mayor, de, blasio, eliminating, time, square,...</td>\n",
       "      <td></td>\n",
       "      <td></td>\n",
       "      <td></td>\n",
       "    </tr>\n",
       "    <tr>\n",
       "      <th>17</th>\n",
       "      <td>[iran, deal, rejection, may, damage, dollar, s...</td>\n",
       "      <td></td>\n",
       "      <td></td>\n",
       "      <td></td>\n",
       "    </tr>\n",
       "    <tr>\n",
       "      <th>18</th>\n",
       "      <td>[new, york, prison, escapee, david, sweat, ent...</td>\n",
       "      <td></td>\n",
       "      <td></td>\n",
       "      <td></td>\n",
       "    </tr>\n",
       "    <tr>\n",
       "      <th>19</th>\n",
       "      <td>[beyoncé, jay, z, openborders, supported, croo...</td>\n",
       "      <td>#Hypocrite</td>\n",
       "      <td></td>\n",
       "      <td></td>\n",
       "    </tr>\n",
       "    <tr>\n",
       "      <th>20</th>\n",
       "      <td>[want, next, secretary]</td>\n",
       "      <td></td>\n",
       "      <td>@StateDept</td>\n",
       "      <td></td>\n",
       "    </tr>\n",
       "    <tr>\n",
       "      <th>21</th>\n",
       "      <td>[next, gear, vr, coming, soon, surprise, price...</td>\n",
       "      <td></td>\n",
       "      <td></td>\n",
       "      <td></td>\n",
       "    </tr>\n",
       "    <tr>\n",
       "      <th>22</th>\n",
       "      <td>[typical, girl, lol]</td>\n",
       "      <td></td>\n",
       "      <td></td>\n",
       "      <td></td>\n",
       "    </tr>\n",
       "    <tr>\n",
       "      <th>23</th>\n",
       "      <td>[official, u, military, charge, bowe, bergdahl...</td>\n",
       "      <td></td>\n",
       "      <td>@winknews</td>\n",
       "      <td></td>\n",
       "    </tr>\n",
       "    <tr>\n",
       "      <th>24</th>\n",
       "      <td>[killer]</td>\n",
       "      <td>#Muslims #MuslimsAreTerorist #IslamIsTheProble...</td>\n",
       "      <td></td>\n",
       "      <td></td>\n",
       "    </tr>\n",
       "    <tr>\n",
       "      <th>25</th>\n",
       "      <td>[best]</td>\n",
       "      <td></td>\n",
       "      <td></td>\n",
       "      <td></td>\n",
       "    </tr>\n",
       "    <tr>\n",
       "      <th>26</th>\n",
       "      <td>[trump, refuse, rule, thirdparty, run, gop, de...</td>\n",
       "      <td></td>\n",
       "      <td></td>\n",
       "      <td></td>\n",
       "    </tr>\n",
       "    <tr>\n",
       "      <th>27</th>\n",
       "      <td>[reid, back, push, save, nuclear, deal, iran]</td>\n",
       "      <td></td>\n",
       "      <td></td>\n",
       "      <td></td>\n",
       "    </tr>\n",
       "    <tr>\n",
       "      <th>28</th>\n",
       "      <td>[jimmy, carter, trying, brandnew, drug, fight,...</td>\n",
       "      <td></td>\n",
       "      <td></td>\n",
       "      <td></td>\n",
       "    </tr>\n",
       "    <tr>\n",
       "      <th>29</th>\n",
       "      <td>[still, threat, american, middle, lower, class]</td>\n",
       "      <td>#TPP #TransPacificPartnership</td>\n",
       "      <td></td>\n",
       "      <td></td>\n",
       "    </tr>\n",
       "    <tr>\n",
       "      <th>...</th>\n",
       "      <td>...</td>\n",
       "      <td>...</td>\n",
       "      <td>...</td>\n",
       "      <td>...</td>\n",
       "    </tr>\n",
       "    <tr>\n",
       "      <th>540923</th>\n",
       "      <td>[phil, baltimore, teacher, art, idea, school, ...</td>\n",
       "      <td></td>\n",
       "      <td>@AJoycePhD</td>\n",
       "      <td></td>\n",
       "    </tr>\n",
       "    <tr>\n",
       "      <th>540924</th>\n",
       "      <td>[map, show, sanctuary, city, island, blue, sea...</td>\n",
       "      <td></td>\n",
       "      <td>@gigi355 @realalexjones</td>\n",
       "      <td></td>\n",
       "    </tr>\n",
       "    <tr>\n",
       "      <th>540925</th>\n",
       "      <td>[allah, filthy, demonic, whore, fuck, pig, hell]</td>\n",
       "      <td></td>\n",
       "      <td>@AllahPigWhore @AnakSabil_7</td>\n",
       "      <td></td>\n",
       "    </tr>\n",
       "    <tr>\n",
       "      <th>540926</th>\n",
       "      <td>[import, voter, say, opponent, racist]</td>\n",
       "      <td>#WhatSanctuaryMeansToMe</td>\n",
       "      <td>@KobunServbotEsq @Integralmathyt</td>\n",
       "      <td></td>\n",
       "    </tr>\n",
       "    <tr>\n",
       "      <th>540927</th>\n",
       "      <td>[reason, woman, lawyering]</td>\n",
       "      <td>#HumaAbedin</td>\n",
       "      <td>@NRO @HillaryClinton</td>\n",
       "      <td></td>\n",
       "    </tr>\n",
       "    <tr>\n",
       "      <th>540928</th>\n",
       "      <td>[cair, nothing, moslem, front, terrorist, group]</td>\n",
       "      <td>#BanCAIR #BurnTheQuran #BanMuslims #BulldozeAl...</td>\n",
       "      <td>@Diamondrosegrfx</td>\n",
       "      <td></td>\n",
       "    </tr>\n",
       "    <tr>\n",
       "      <th>540929</th>\n",
       "      <td>[thwarted, taking, serious, soldier, shoot, kn...</td>\n",
       "      <td>#ParisAttack #ThankYouTrump #ISIS</td>\n",
       "      <td>@junogsp5</td>\n",
       "      <td>⚡</td>\n",
       "    </tr>\n",
       "    <tr>\n",
       "      <th>540930</th>\n",
       "      <td>[bag, last, piece, luggage, ever, want]</td>\n",
       "      <td></td>\n",
       "      <td>@themanualguide @Belber1891</td>\n",
       "      <td></td>\n",
       "    </tr>\n",
       "    <tr>\n",
       "      <th>540931</th>\n",
       "      <td>[psychologist, say, crush, last, month, feelin...</td>\n",
       "      <td></td>\n",
       "      <td>@DailyPsychologQ</td>\n",
       "      <td></td>\n",
       "    </tr>\n",
       "    <tr>\n",
       "      <th>540932</th>\n",
       "      <td>[admitting, made, mistake, earn, respect, spee...</td>\n",
       "      <td></td>\n",
       "      <td>@DailyPsychologQ</td>\n",
       "      <td></td>\n",
       "    </tr>\n",
       "    <tr>\n",
       "      <th>540933</th>\n",
       "      <td>[via, android, anonymous, post, clinton, under...</td>\n",
       "      <td></td>\n",
       "      <td>@GREENESJ333 @duckduckgo</td>\n",
       "      <td></td>\n",
       "    </tr>\n",
       "    <tr>\n",
       "      <th>540934</th>\n",
       "      <td>[kenyan, fraud]</td>\n",
       "      <td>#ArrestObamaForTREASON #MAGA #</td>\n",
       "      <td>@Diamondrosegrfx</td>\n",
       "      <td></td>\n",
       "    </tr>\n",
       "    <tr>\n",
       "      <th>540935</th>\n",
       "      <td>[clarion, ny, suspect's, mosque, linked, subve...</td>\n",
       "      <td>#BanIslam #BanSharia #CloseAllMos</td>\n",
       "      <td>@jonburtonhx</td>\n",
       "      <td></td>\n",
       "    </tr>\n",
       "    <tr>\n",
       "      <th>540936</th>\n",
       "      <td>[never, apologize, none]</td>\n",
       "      <td>#American #WakeUpAmerica #PJNET</td>\n",
       "      <td>@michaelmeans49 @kin2souls</td>\n",
       "      <td></td>\n",
       "    </tr>\n",
       "    <tr>\n",
       "      <th>540937</th>\n",
       "      <td>[virginia, antifa, terrorist, charged, dc, als...</td>\n",
       "      <td></td>\n",
       "      <td>@AJoycePhD</td>\n",
       "      <td></td>\n",
       "    </tr>\n",
       "    <tr>\n",
       "      <th>540938</th>\n",
       "      <td>[news, today, censored, article]</td>\n",
       "      <td>#HillarysHealth</td>\n",
       "      <td>@HannerRandolph @HuffingtonPost</td>\n",
       "      <td></td>\n",
       "    </tr>\n",
       "    <tr>\n",
       "      <th>540939</th>\n",
       "      <td>[happy, oblige, carlos]</td>\n",
       "      <td>#DeportThis #BuildTheWall #AmericaWillNeverBeM...</td>\n",
       "      <td>@GemMar333</td>\n",
       "      <td>😜</td>\n",
       "    </tr>\n",
       "    <tr>\n",
       "      <th>540940</th>\n",
       "      <td>[woman, longer, get, frustrated, upset, almost...</td>\n",
       "      <td></td>\n",
       "      <td>@DailyPsychologQ</td>\n",
       "      <td></td>\n",
       "    </tr>\n",
       "    <tr>\n",
       "      <th>540941</th>\n",
       "      <td>[beginning, great, thing, come, keeping, vow]</td>\n",
       "      <td>#PresidentElectTrump #MAGA</td>\n",
       "      <td>@GemMar333</td>\n",
       "      <td></td>\n",
       "    </tr>\n",
       "    <tr>\n",
       "      <th>540942</th>\n",
       "      <td>[dhs, whistleblower, deep, penetration, muslim...</td>\n",
       "      <td></td>\n",
       "      <td>@DrjorgesuarezJ @3WU8pdVoyxQtBCUhKI877GQU</td>\n",
       "      <td></td>\n",
       "    </tr>\n",
       "    <tr>\n",
       "      <th>540943</th>\n",
       "      <td>[new, york, city, erase, id, card, data, prote...</td>\n",
       "      <td></td>\n",
       "      <td>@DrjorgesuarezJ @JtMobleyFla @realDonaldTrump ...</td>\n",
       "      <td></td>\n",
       "    </tr>\n",
       "    <tr>\n",
       "      <th>540944</th>\n",
       "      <td>[suicide, bombing, squad]</td>\n",
       "      <td>#MakeAMovieIslamic</td>\n",
       "      <td>@EnemyWithinn</td>\n",
       "      <td></td>\n",
       "    </tr>\n",
       "    <tr>\n",
       "      <th>540945</th>\n",
       "      <td>[canadian, school, make, child, sing, mohammad...</td>\n",
       "      <td></td>\n",
       "      <td>@ClaraJClerk</td>\n",
       "      <td></td>\n",
       "    </tr>\n",
       "    <tr>\n",
       "      <th>540946</th>\n",
       "      <td>[hear, ye, hear, ye, ️new, executive, order️, ...</td>\n",
       "      <td>#MAGA #TRUMP</td>\n",
       "      <td>@GemMar333</td>\n",
       "      <td>📢 ♦ ♦</td>\n",
       "    </tr>\n",
       "    <tr>\n",
       "      <th>540947</th>\n",
       "      <td>[clinton, email, basic, respect, —, u, truth]</td>\n",
       "      <td></td>\n",
       "      <td>@Eugene_Robinson</td>\n",
       "      <td></td>\n",
       "    </tr>\n",
       "    <tr>\n",
       "      <th>540948</th>\n",
       "      <td>[watch, distraught, mother, victim, hillary, l...</td>\n",
       "      <td>#Benghazi</td>\n",
       "      <td>@NRO @megynkelly</td>\n",
       "      <td></td>\n",
       "    </tr>\n",
       "    <tr>\n",
       "      <th>540949</th>\n",
       "      <td>[email, reveal, disturbing, pattern, internati...</td>\n",
       "      <td>#WikiLeaks</td>\n",
       "      <td>@NRO @ClintonFdn</td>\n",
       "      <td></td>\n",
       "    </tr>\n",
       "    <tr>\n",
       "      <th>540950</th>\n",
       "      <td>[humor, nice, sound, policy, better, early, wi...</td>\n",
       "      <td>#CNBCGOPDebate #Pataki</td>\n",
       "      <td>@wtfnewsamerica</td>\n",
       "      <td></td>\n",
       "    </tr>\n",
       "    <tr>\n",
       "      <th>540951</th>\n",
       "      <td>[voter, watching, exit, pole, al, joe, reporti...</td>\n",
       "      <td></td>\n",
       "      <td>@BlackPeppa2 @UTHornsRawk</td>\n",
       "      <td></td>\n",
       "    </tr>\n",
       "    <tr>\n",
       "      <th>540952</th>\n",
       "      <td>[despite, desperate, fear, mongering, eu, elit...</td>\n",
       "      <td></td>\n",
       "      <td>@NRO</td>\n",
       "      <td></td>\n",
       "    </tr>\n",
       "  </tbody>\n",
       "</table>\n",
       "<p>540953 rows × 4 columns</p>\n",
       "</div>"
      ],
      "text/plain": [
       "                                              clean_tweet  \\\n",
       "0                                  [new, convoy, arrived]   \n",
       "1                               [civilian, killed, mosul]   \n",
       "2       [truly, know, know, true, payback, hell, perso...   \n",
       "3                       [remember, last, summer, dear, ️]   \n",
       "4            [u, gay, arriage, refused, clerk, kkentucky]   \n",
       "5       [former, president, jimmy, carter, begin, radi...   \n",
       "6       [new, trove, purported, ashley, madison, data,...   \n",
       "7                          [today's, lesson, islam, ️, ️]   \n",
       "8       [new, york, prison, escapee, david, sweat, ple...   \n",
       "9       [subway, jared, fogle, face, year, prison, ter...   \n",
       "10      [google, inc, nasdaqgoogl, go, ajustin, driver...   \n",
       "11                                        [never, forget]   \n",
       "12      [carlos, hollins, prison, making, terror, threat]   \n",
       "13            [ashley, madison, fallout, blackmail, risk]   \n",
       "14      [hurt, man, survived, week, wood, drinking, ra...   \n",
       "15      [hell, storm, three, washington, firefighter, ...   \n",
       "16      [mayor, de, blasio, eliminating, time, square,...   \n",
       "17      [iran, deal, rejection, may, damage, dollar, s...   \n",
       "18      [new, york, prison, escapee, david, sweat, ent...   \n",
       "19      [beyoncé, jay, z, openborders, supported, croo...   \n",
       "20                                [want, next, secretary]   \n",
       "21      [next, gear, vr, coming, soon, surprise, price...   \n",
       "22                                   [typical, girl, lol]   \n",
       "23      [official, u, military, charge, bowe, bergdahl...   \n",
       "24                                               [killer]   \n",
       "25                                                 [best]   \n",
       "26      [trump, refuse, rule, thirdparty, run, gop, de...   \n",
       "27          [reid, back, push, save, nuclear, deal, iran]   \n",
       "28      [jimmy, carter, trying, brandnew, drug, fight,...   \n",
       "29        [still, threat, american, middle, lower, class]   \n",
       "...                                                   ...   \n",
       "540923  [phil, baltimore, teacher, art, idea, school, ...   \n",
       "540924  [map, show, sanctuary, city, island, blue, sea...   \n",
       "540925   [allah, filthy, demonic, whore, fuck, pig, hell]   \n",
       "540926             [import, voter, say, opponent, racist]   \n",
       "540927                         [reason, woman, lawyering]   \n",
       "540928   [cair, nothing, moslem, front, terrorist, group]   \n",
       "540929  [thwarted, taking, serious, soldier, shoot, kn...   \n",
       "540930            [bag, last, piece, luggage, ever, want]   \n",
       "540931  [psychologist, say, crush, last, month, feelin...   \n",
       "540932  [admitting, made, mistake, earn, respect, spee...   \n",
       "540933  [via, android, anonymous, post, clinton, under...   \n",
       "540934                                    [kenyan, fraud]   \n",
       "540935  [clarion, ny, suspect's, mosque, linked, subve...   \n",
       "540936                           [never, apologize, none]   \n",
       "540937  [virginia, antifa, terrorist, charged, dc, als...   \n",
       "540938                   [news, today, censored, article]   \n",
       "540939                            [happy, oblige, carlos]   \n",
       "540940  [woman, longer, get, frustrated, upset, almost...   \n",
       "540941      [beginning, great, thing, come, keeping, vow]   \n",
       "540942  [dhs, whistleblower, deep, penetration, muslim...   \n",
       "540943  [new, york, city, erase, id, card, data, prote...   \n",
       "540944                          [suicide, bombing, squad]   \n",
       "540945  [canadian, school, make, child, sing, mohammad...   \n",
       "540946  [hear, ye, hear, ye, ️new, executive, order️, ...   \n",
       "540947      [clinton, email, basic, respect, —, u, truth]   \n",
       "540948  [watch, distraught, mother, victim, hillary, l...   \n",
       "540949  [email, reveal, disturbing, pattern, internati...   \n",
       "540950  [humor, nice, sound, policy, better, early, wi...   \n",
       "540951  [voter, watching, exit, pole, al, joe, reporti...   \n",
       "540952  [despite, desperate, fear, mongering, eu, elit...   \n",
       "\n",
       "                                                 hashtags  \\\n",
       "0                        #SyrianArmy #Hama #InsideSyriaMC   \n",
       "1                                        #Iraq #airstrike   \n",
       "2                                                           \n",
       "3                                                           \n",
       "4                                                           \n",
       "5                                                           \n",
       "6                                                           \n",
       "7       #EducateYourselfOnIslam #StopIslamizationOfAme...   \n",
       "8                                                           \n",
       "9                                                           \n",
       "10                                                          \n",
       "11                                      #ShaunKingIsWhite   \n",
       "12                                               #Orlando   \n",
       "13                                                          \n",
       "14                                                          \n",
       "15                                                          \n",
       "16                                                          \n",
       "17                                                          \n",
       "18                                                          \n",
       "19                                             #Hypocrite   \n",
       "20                                                          \n",
       "21                                                          \n",
       "22                                                          \n",
       "23                                                          \n",
       "24      #Muslims #MuslimsAreTerorist #IslamIsTheProble...   \n",
       "25                                                          \n",
       "26                                                          \n",
       "27                                                          \n",
       "28                                                          \n",
       "29                          #TPP #TransPacificPartnership   \n",
       "...                                                   ...   \n",
       "540923                                                      \n",
       "540924                                                      \n",
       "540925                                                      \n",
       "540926                            #WhatSanctuaryMeansToMe   \n",
       "540927                                        #HumaAbedin   \n",
       "540928  #BanCAIR #BurnTheQuran #BanMuslims #BulldozeAl...   \n",
       "540929                  #ParisAttack #ThankYouTrump #ISIS   \n",
       "540930                                                      \n",
       "540931                                                      \n",
       "540932                                                      \n",
       "540933                                                      \n",
       "540934                     #ArrestObamaForTREASON #MAGA #   \n",
       "540935                  #BanIslam #BanSharia #CloseAllMos   \n",
       "540936                    #American #WakeUpAmerica #PJNET   \n",
       "540937                                                      \n",
       "540938                                    #HillarysHealth   \n",
       "540939  #DeportThis #BuildTheWall #AmericaWillNeverBeM...   \n",
       "540940                                                      \n",
       "540941                         #PresidentElectTrump #MAGA   \n",
       "540942                                                      \n",
       "540943                                                      \n",
       "540944                                 #MakeAMovieIslamic   \n",
       "540945                                                      \n",
       "540946                                       #MAGA #TRUMP   \n",
       "540947                                                      \n",
       "540948                                          #Benghazi   \n",
       "540949                                         #WikiLeaks   \n",
       "540950                             #CNBCGOPDebate #Pataki   \n",
       "540951                                                      \n",
       "540952                                                      \n",
       "\n",
       "                                                 mentions  \\\n",
       "0                                                           \n",
       "1                                                @CJTFOIR   \n",
       "2                                                           \n",
       "3                                                           \n",
       "4                                                           \n",
       "5                                                           \n",
       "6                                                           \n",
       "7                                                           \n",
       "8                                                           \n",
       "9                                                           \n",
       "10                                                          \n",
       "11                                                          \n",
       "12                                         @__TRVPCOCAINE   \n",
       "13                                                          \n",
       "14                                                          \n",
       "15                                                          \n",
       "16                                                          \n",
       "17                                                          \n",
       "18                                                          \n",
       "19                                                          \n",
       "20                                             @StateDept   \n",
       "21                                                          \n",
       "22                                                          \n",
       "23                                              @winknews   \n",
       "24                                                          \n",
       "25                                                          \n",
       "26                                                          \n",
       "27                                                          \n",
       "28                                                          \n",
       "29                                                          \n",
       "...                                                   ...   \n",
       "540923                                         @AJoycePhD   \n",
       "540924                            @gigi355 @realalexjones   \n",
       "540925                        @AllahPigWhore @AnakSabil_7   \n",
       "540926                   @KobunServbotEsq @Integralmathyt   \n",
       "540927                               @NRO @HillaryClinton   \n",
       "540928                                   @Diamondrosegrfx   \n",
       "540929                                          @junogsp5   \n",
       "540930                        @themanualguide @Belber1891   \n",
       "540931                                   @DailyPsychologQ   \n",
       "540932                                   @DailyPsychologQ   \n",
       "540933                           @GREENESJ333 @duckduckgo   \n",
       "540934                                   @Diamondrosegrfx   \n",
       "540935                                       @jonburtonhx   \n",
       "540936                         @michaelmeans49 @kin2souls   \n",
       "540937                                         @AJoycePhD   \n",
       "540938                    @HannerRandolph @HuffingtonPost   \n",
       "540939                                         @GemMar333   \n",
       "540940                                   @DailyPsychologQ   \n",
       "540941                                         @GemMar333   \n",
       "540942          @DrjorgesuarezJ @3WU8pdVoyxQtBCUhKI877GQU   \n",
       "540943  @DrjorgesuarezJ @JtMobleyFla @realDonaldTrump ...   \n",
       "540944                                      @EnemyWithinn   \n",
       "540945                                       @ClaraJClerk   \n",
       "540946                                         @GemMar333   \n",
       "540947                                   @Eugene_Robinson   \n",
       "540948                                   @NRO @megynkelly   \n",
       "540949                                   @NRO @ClintonFdn   \n",
       "540950                                    @wtfnewsamerica   \n",
       "540951                          @BlackPeppa2 @UTHornsRawk   \n",
       "540952                                               @NRO   \n",
       "\n",
       "                         emojis  \n",
       "0                                \n",
       "1                                \n",
       "2                                \n",
       "3       ☀ 🌊 🐬 🐚 🏄 🏊 🚵 🍒 🍇 🍉 🍓 🍑  \n",
       "4                                \n",
       "5                                \n",
       "6                                \n",
       "7         ☪ 👎 🏿 🕋 🕋 💀 ☪ 🕋 👹 💣 ❌  \n",
       "8                                \n",
       "9                                \n",
       "10                               \n",
       "11                               \n",
       "12                               \n",
       "13                               \n",
       "14                               \n",
       "15                               \n",
       "16                               \n",
       "17                               \n",
       "18                               \n",
       "19                               \n",
       "20                               \n",
       "21                               \n",
       "22                               \n",
       "23                               \n",
       "24                               \n",
       "25                               \n",
       "26                               \n",
       "27                               \n",
       "28                               \n",
       "29                               \n",
       "...                         ...  \n",
       "540923                           \n",
       "540924                           \n",
       "540925                           \n",
       "540926                           \n",
       "540927                           \n",
       "540928                           \n",
       "540929                        ⚡  \n",
       "540930                           \n",
       "540931                           \n",
       "540932                           \n",
       "540933                           \n",
       "540934                           \n",
       "540935                           \n",
       "540936                           \n",
       "540937                           \n",
       "540938                           \n",
       "540939                        😜  \n",
       "540940                           \n",
       "540941                           \n",
       "540942                           \n",
       "540943                           \n",
       "540944                           \n",
       "540945                           \n",
       "540946                    📢 ♦ ♦  \n",
       "540947                           \n",
       "540948                           \n",
       "540949                           \n",
       "540950                           \n",
       "540951                           \n",
       "540952                           \n",
       "\n",
       "[540953 rows x 4 columns]"
      ]
     },
     "execution_count": 38,
     "metadata": {},
     "output_type": "execute_result"
    }
   ],
   "source": [
    "clean_df"
   ]
  },
  {
   "cell_type": "code",
   "execution_count": 34,
   "metadata": {
    "ExecuteTime": {
     "end_time": "2020-06-11T14:13:03.104812Z",
     "start_time": "2020-06-11T14:13:03.100496Z"
    }
   },
   "outputs": [],
   "source": [
    "clean_df.to_csv('clean_df.csv')"
   ]
  },
  {
   "cell_type": "code",
   "execution_count": 41,
   "metadata": {
    "ExecuteTime": {
     "end_time": "2020-06-10T10:25:31.507381Z",
     "start_time": "2020-06-10T10:25:31.498555Z"
    }
   },
   "outputs": [
    {
     "name": "stdout",
     "output_type": "stream",
     "text": [
      "\n",
      " ** Original tweet at index: 422748 \n",
      "\n",
      "RT @andersonDrLJA: #SenChuckSchumer IS A  PERFECT EXAMPLE OF WHY #TermLImits Are A MUST!\n",
      "\n",
      "#ConventionOfStates  #COS\n",
      "\n",
      "#CongressDoYourJob htt…\n",
      "================================================ \n",
      "\n",
      " ** Cleaned text as words: \n",
      "\n",
      "['rt', 'perfect', 'example', 'must', 'htt']\n",
      "================================================ \n",
      "\n",
      " ** Hashtags: \n",
      "\n",
      "#SenChuckSchumer #TermLImits #ConventionOfStates #COS #CongressDoYourJob\n",
      "================================================ \n",
      "\n",
      " ** Emojis: \n",
      "\n",
      "\n",
      "================================================ \n",
      "\n",
      " ** Mentions: \n",
      "\n",
      "@andersonDrLJA\n"
     ]
    }
   ],
   "source": [
    "i = np.random.randint(low = 0, high = len(data_subset))\n",
    "print('\\n ** Original tweet at index:', i, '\\n')\n",
    "print(data_subset.tweet_text[i]) \n",
    "print('================================================ \\n')\n",
    "print(' ** Cleaned text as words: \\n')\n",
    "print(clean_tweets[i])\n",
    "print('================================================ \\n')\n",
    "print(' ** Hashtags: \\n')\n",
    "print(hashtags[i])\n",
    "print('================================================ \\n')\n",
    "print(' ** Emojis: \\n')\n",
    "print(emojis[i])\n",
    "print('================================================ \\n')\n",
    "print(' ** Mentions: \\n')\n",
    "print(mentions[i])"
   ]
  },
  {
   "cell_type": "markdown",
   "metadata": {},
   "source": [
    "### checkin out hashtags"
   ]
  },
  {
   "cell_type": "code",
   "execution_count": 39,
   "metadata": {
    "ExecuteTime": {
     "end_time": "2020-06-17T08:36:41.149185Z",
     "start_time": "2020-06-17T08:36:40.994413Z"
    }
   },
   "outputs": [],
   "source": [
    "# put hashtags in dictionary to see most frequent ones\n",
    "hashtag_counter = collections.Counter(hashtags)\n",
    "\n",
    "# sort by frequency\n",
    "hashtag_counter = {k: v for k, v in sorted(hashtag_counter.items(), key=lambda item: item[1])}\n",
    "\n",
    "# remove all keys with values < than 10\n",
    "hashtag_counter = {k:v for k,v in hashtag_counter.items() if v >= 500}\n",
    "\n",
    "# drop tweets with no hashtags\n",
    "hashtag_counter = {k:v for k,v in hashtag_counter.items() if k != ''}"
   ]
  },
  {
   "cell_type": "code",
   "execution_count": 40,
   "metadata": {
    "ExecuteTime": {
     "end_time": "2020-06-17T08:36:42.617848Z",
     "start_time": "2020-06-17T08:36:42.104132Z"
    }
   },
   "outputs": [
    {
     "data": {
      "image/png": "[encoded data removed]",
      "text/plain": [
       "<Figure size 720x1440 with 1 Axes>"
      ]
     },
     "metadata": {
      "needs_background": "light"
     },
     "output_type": "display_data"
    }
   ],
   "source": [
    "plt.figure(figsize=(10,20))\n",
    "plt.rc('axes', linewidth=0.1, titlesize=12, labelsize=12)\n",
    "\n",
    "plt.barh(range(len(hashtag_counter)), hashtag_counter.values(), align='center')\n",
    "plt.yticks(range(len(hashtag_counter)), list(hashtag_counter.keys()))\n",
    "plt.title('Most Common Hashtags')\n",
    "plt.ylabel('Hashtags')\n",
    "plt.xlabel('# of Tweets')\n",
    "plt.show()"
   ]
  },
  {
   "cell_type": "markdown",
   "metadata": {},
   "source": [
    "### vectorizer"
   ]
  },
  {
   "cell_type": "code",
   "execution_count": 41,
   "metadata": {
    "ExecuteTime": {
     "end_time": "2020-06-17T08:37:19.135797Z",
     "start_time": "2020-06-17T08:37:18.956851Z"
    }
   },
   "outputs": [],
   "source": [
    "# join tweet words to input into the vectorizer\n",
    "clean_tweets_joint = [\" \".join(words) for words in clean_tweets]"
   ]
  },
  {
   "cell_type": "code",
   "execution_count": 42,
   "metadata": {
    "ExecuteTime": {
     "end_time": "2020-06-17T08:37:21.176138Z",
     "start_time": "2020-06-17T08:37:21.170911Z"
    }
   },
   "outputs": [
    {
     "name": "stdout",
     "output_type": "stream",
     "text": [
      "split tweet:\n",
      "['student', 'trip', 'see', 'santa', 'cancelled', 'jewish', 'mom', 'complains']\n",
      "===============================================\n",
      "joint tweet:\n",
      "student trip see santa cancelled jewish mom complains\n"
     ]
    }
   ],
   "source": [
    "# check tweets joined properly\n",
    "i = np.random.randint(low = 0, high = len(clean_tweets))\n",
    "print('split tweet:')\n",
    "print(clean_tweets[i])\n",
    "print('===============================================')\n",
    "print('joint tweet:')\n",
    "print(clean_tweets_joint[i])"
   ]
  },
  {
   "cell_type": "code",
   "execution_count": null,
   "metadata": {
    "ExecuteTime": {
     "end_time": "2020-06-17T11:31:43.577247Z",
     "start_time": "2020-06-17T11:30:05.685Z"
    }
   },
   "outputs": [],
   "source": [
    "# # load the vec model\n",
    "# vectorizer = TfidfVectorizer(min_df=2,\n",
    "#                              max_df=.8,\n",
    "#                              stop_words='english',\n",
    "#                              use_idf=False,\n",
    "#                              norm=False)\n",
    "\n",
    "# v = vectorizer.fit_transform(clean_tweets_joint)\n",
    "# v = np.asarray(v.todense())\n",
    "\n",
    "\n",
    "# # get the labels (vocabulary), sorted by index\n",
    "# labels, _ = zip(*sorted(vectorizer.vocabulary_.items(), key=lambda x: x[1]))\n",
    "\n",
    "# put the labels and average frequency into a dataframe \n",
    "# so it's easier to work with\n",
    "labels_df = pd.DataFrame({'label': list(labels), 'mean': v.mean(axis=0)})\n",
    "\n",
    "# select only frequencies higher than 0.01 for plotting (otherwise it's a \n",
    "# list of 3000+ words)\n",
    "labels_df = labels_df[labels_df['mean'] >= 0.0]\n",
    "\n",
    "# sort by frequency to plot\n",
    "labels_df = labels_df.sort_values(by='mean', ascending=True)\n",
    "\n",
    "len(labels_df)"
   ]
  },
  {
   "cell_type": "code",
   "execution_count": 47,
   "metadata": {
    "ExecuteTime": {
     "end_time": "2020-06-17T11:32:12.758298Z",
     "start_time": "2020-06-17T11:32:12.741509Z"
    }
   },
   "outputs": [
    {
     "data": {
      "text/plain": [
       "57"
      ]
     },
     "execution_count": 47,
     "metadata": {},
     "output_type": "execute_result"
    }
   ],
   "source": [
    "len(labels_df)"
   ]
  },
  {
   "cell_type": "code",
   "execution_count": 44,
   "metadata": {
    "ExecuteTime": {
     "end_time": "2020-06-17T08:39:17.937429Z",
     "start_time": "2020-06-17T08:39:16.797946Z"
    },
    "scrolled": false
   },
   "outputs": [
    {
     "data": {
      "image/png": "[encoded data removed]",
      "text/plain": [
       "<Figure size 720x1440 with 1 Axes>"
      ]
     },
     "metadata": {
      "needs_background": "light"
     },
     "output_type": "display_data"
    }
   ],
   "source": [
    "# plot the results \n",
    "\n",
    "plt.figure(figsize=(10,20))\n",
    "plt.rc('axes', linewidth=0.1, titlesize=12, labelsize=12)\n",
    "\n",
    "plt.barh(labels_df['label'], labels_df['mean'], align='center')\n",
    "plt.title('Term Frequency')\n",
    "plt.ylabel('Words')\n",
    "plt.xlabel('Frequency')\n",
    "plt.show()"
   ]
  },
  {
   "cell_type": "code",
   "execution_count": 45,
   "metadata": {
    "ExecuteTime": {
     "end_time": "2020-06-17T08:40:00.596529Z",
     "start_time": "2020-06-17T08:39:57.566408Z"
    }
   },
   "outputs": [],
   "source": [
    "# Pick clean_tweets\n",
    "import pickle\n",
    "# Pickle results\n",
    "with open('clean_tweets', 'wb') as results:\n",
    "    pickle.dump((clean_tweets), results)"
   ]
  }
 ],
 "metadata": {
  "kernelspec": {
   "display_name": "Python 3",
   "language": "python",
   "name": "python3"
  },
  "language_info": {
   "codemirror_mode": {
    "name": "ipython",
    "version": 3
   },
   "file_extension": ".py",
   "mimetype": "text/x-python",
   "name": "python",
   "nbconvert_exporter": "python",
   "pygments_lexer": "ipython3",
   "version": "3.7.3"
  },
  "toc": {
   "base_numbering": 1,
   "nav_menu": {},
   "number_sections": true,
   "sideBar": true,
   "skip_h1_title": false,
   "title_cell": "Table of Contents",
   "title_sidebar": "Contents",
   "toc_cell": false,
   "toc_position": {},
   "toc_section_display": true,
   "toc_window_display": false
  }
 },
 "nbformat": 4,
 "nbformat_minor": 2
}
